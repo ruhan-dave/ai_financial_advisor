{
 "cells": [
  {
   "cell_type": "code",
   "execution_count": 6,
   "id": "e5aa9a83",
   "metadata": {},
   "outputs": [
    {
     "name": "stdout",
     "output_type": "stream",
     "text": [
      "langchain-core==0.3.65\n",
      "langchain-community==0.3.24\n",
      "langchain-aws==0.2.26\n",
      "langchain-pinecone==0.2.8\n",
      "pydantic==2.11.5\n",
      "pinecone-client==6.0.0\n",
      "sentence-transformers is not installed\n",
      "requests==2.32.3\n",
      "boto3==1.38.32\n",
      "botocore==1.38.32\n",
      "idna==3.10\n",
      "certifi==2025.4.26\n",
      "langchain==0.3.25\n"
     ]
    }
   ],
   "source": [
    "import pkg_resources\n",
    "\n",
    "packages_of_interest = [\n",
    "    \"langchain-core\",\n",
    "    \"langchain-community\",\n",
    "    \"langchain-aws\",\n",
    "    \"langchain-pinecone\",\n",
    "    \"pydantic\",\n",
    "    \"pinecone-client\",\n",
    "    \"sentence-transformers\",\n",
    "    \"requests\",\n",
    "    \"boto3\",\n",
    "    \"botocore\",\n",
    "    \"idna\",\n",
    "    \"certifi\",\n",
    "    \"langchain\"\n",
    "]\n",
    "\n",
    "for pkg in packages_of_interest:\n",
    "    try:\n",
    "        version = pkg_resources.get_distribution(pkg).version\n",
    "        print(f\"{pkg}=={version}\")\n",
    "    except pkg_resources.DistributionNotFound:\n",
    "        print(f\"{pkg} is not installed\")"
   ]
  },
  {
   "cell_type": "code",
   "execution_count": 7,
   "id": "bd160d24",
   "metadata": {},
   "outputs": [],
   "source": [
    "from langchain_core.embeddings import Embeddings"
   ]
  },
  {
   "cell_type": "code",
   "execution_count": 10,
   "id": "620cf754",
   "metadata": {},
   "outputs": [],
   "source": [
    "from langchain_core.prompts import ChatPromptTemplate\n"
   ]
  },
  {
   "cell_type": "code",
   "execution_count": null,
   "id": "19f5b245",
   "metadata": {},
   "outputs": [],
   "source": []
  }
 ],
 "metadata": {
  "kernelspec": {
   "display_name": "myenv",
   "language": "python",
   "name": "python3"
  },
  "language_info": {
   "codemirror_mode": {
    "name": "ipython",
    "version": 3
   },
   "file_extension": ".py",
   "mimetype": "text/x-python",
   "name": "python",
   "nbconvert_exporter": "python",
   "pygments_lexer": "ipython3",
   "version": "3.12.11"
  }
 },
 "nbformat": 4,
 "nbformat_minor": 5
}
