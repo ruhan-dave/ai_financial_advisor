{
 "cells": [
  {
   "cell_type": "code",
   "execution_count": 2,
   "id": "5e198463",
   "metadata": {},
   "outputs": [
    {
     "name": "stdout",
     "output_type": "stream",
     "text": [
      "Top-level items: {'pydantic_core-2.35.1.dist-info', 'certifi-2025.4.26.dist-info', 'typing_extensions-4.14.0.dist-info', 'langchain', '__pycache__', 'langchain_pinecone', 'requests', 'langchain_community', 'idna', 'requests-2.32.3.dist-info', 'langchain_core', 'boto3', 'pydantic-2.11.5.dist-info', 'botocore-1.38.32.dist-info', 'pinecone_client-6.0.0.dist-info', 'pydantic_core', 'certifi', 'pydantic', 'langchain-0.3.26.dist-info', 'pinecone', 'botocore', 'langchain_pinecone-0.2.8.dist-info', 'langchain_core-0.3.66.dist-info', 'idna-3.10.dist-info', 'langchain_community-0.3.26.dist-info', 'boto3-1.38.32.dist-info'}\n",
      "langchain_community present: True\n",
      "python/ folder present: False\n",
      "Sample files in langchain_community: ['langchain_community/', 'langchain_community/chat_loaders/', 'langchain_community/chat_loaders/facebook_messenger.py', 'langchain_community/chat_loaders/whatsapp.py', 'langchain_community/chat_loaders/telegram.py', 'langchain_community/chat_loaders/langsmith.py', 'langchain_community/chat_loaders/imessage.py', 'langchain_community/chat_loaders/__init__.py', 'langchain_community/chat_loaders/__pycache__/', 'langchain_community/chat_loaders/__pycache__/facebook_messenger.cpython-312.pyc']\n"
     ]
    }
   ],
   "source": [
    "import zipfile\n",
    "\n",
    "with zipfile.ZipFile('layer.zip', 'r') as z:\n",
    "    files = z.namelist()\n",
    "\n",
    "# Find top-level folders and look for langchain_community and python\n",
    "root_items = set(f.split('/')[0] for f in files if '/' in f)\n",
    "langchain_community_present = any(f.startswith('langchain_community/') for f in files)\n",
    "python_folder_present = any(f.startswith('python/') for f in files)\n",
    "\n",
    "print('Top-level items:', root_items)\n",
    "print('langchain_community present:', langchain_community_present)\n",
    "print('python/ folder present:', python_folder_present)\n",
    "\n",
    "# List a few files under langchain_community if present\n",
    "if langchain_community_present:\n",
    "    langchain_files = [f for f in files if f.startswith('langchain_community/')][:10]\n",
    "    print('Sample files in langchain_community:', langchain_files)"
   ]
  },
  {
   "cell_type": "code",
   "execution_count": null,
   "id": "d07d6361",
   "metadata": {},
   "outputs": [],
   "source": []
  },
  {
   "cell_type": "code",
   "execution_count": null,
   "id": "c5fd61fe",
   "metadata": {},
   "outputs": [],
   "source": []
  }
 ],
 "metadata": {
  "kernelspec": {
   "display_name": "myenv",
   "language": "python",
   "name": "python3"
  },
  "language_info": {
   "codemirror_mode": {
    "name": "ipython",
    "version": 3
   },
   "file_extension": ".py",
   "mimetype": "text/x-python",
   "name": "python",
   "nbconvert_exporter": "python",
   "pygments_lexer": "ipython3",
   "version": "3.12.11"
  }
 },
 "nbformat": 4,
 "nbformat_minor": 5
}
