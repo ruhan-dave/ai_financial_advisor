{
 "cells": [
  {
   "cell_type": "code",
   "execution_count": null,
   "id": "6f638e14",
   "metadata": {},
   "outputs": [],
   "source": [
    "from dotenv import load_dotenv\n",
    "load_dotenv()\n",
    "\n",
    "import os\n",
    "\n",
    "os.environ[\"TAVILY_API_KEY\"] = os.getenv(\"TAVILY_API_KEY\")"
   ]
  },
  {
   "cell_type": "code",
   "execution_count": 4,
   "id": "9e251d17",
   "metadata": {},
   "outputs": [
    {
     "data": {
      "text/plain": [
       "[{'title': \"Today's Top Tech & AI News at a Glance — June 14, 2025 - Medium\",\n",
       "  'url': 'https://medium.com/@delhi.satish/todays-top-tech-ai-news-at-a-glance-june-14-2025-f530a06d26d6',\n",
       "  'content': '**Multiverse Computing raises $215 million for CompactifAI**  \\n**Summary:** Spanish startup Multiverse Computing closed a €189 million Series B round to advance “CompactifAI,” its platform aimed at slashing the computational costs of large-scale AI workloads.  \\n***Why it matters:*** *By reducing the cost barrier for training and running AI models, CompactifAI could democratize access to advanced AI, especially for research institutions and mid-sized firms.* [...] **Google to split from Scale AI after Meta’s big stake**  \\n**Summary:** Google, Scale AI’s largest customer, plans to sever ties following Meta’s $14.8 billion deal for a 49% stake in the data-labeling startup, over concerns about sharing proprietary training data with a rival.  \\n***Why it matters:*** *As Meta poaches Scale AI’s CEO and locks in a strategic partnership, other AI developers are scrambling for new annotation partners — reshaping the data-infrastructure market.* [...] Link: TechCrunch — <https://techcrunch.com/2025/06/12/multiverse-computing-raises-215m-for-tech-that-could-radically-slim-ai-costs/>…',\n",
       "  'score': 0.94263905},\n",
       " {'title': 'AI news and funding updates from the last 24 hours(14th June 2025)',\n",
       "  'url': 'https://www.linkedin.com/pulse/ai-news-funding-updates-from-last-24-hours14th-june-2025-anshuman-jha-db2ec',\n",
       "  'content': 'AI news and funding updates from the last 24 hours(14th June 2025) · Clay. Sales automation startup Clay has secured a Series C funding round,',\n",
       "  'score': 0.89997756},\n",
       " {'title': \"June 2025 Tech News Roundup: AI, Apple WWDC, Elon's xAI & More\",\n",
       "  'url': 'https://medium.com/@palashjain9276/june-2025-tech-news-roundup-ai-apple-wwdc-elons-xai-more-a34944f07159',\n",
       "  'content': 'Venture capital is pouring into AI startups in June, with over $3.2 billion raised this month alone. Sectors seeing major investments:\\n\\n• AI for education\\n\\n• Generative video tools\\n\\n• AI-powered coding assistants\\n\\nStartups like SynthMind, LearnPilot, and VividFrame are making headlines.\\n\\n🧾 Final Thoughts [...] June 2025 has been full of energy, innovation, and a glimpse into the AI-first future. Whether you’re a tech lover, startup founder, or curious reader – there’s never been a better time to follow the latest in AI and beyond.\\n\\nFollow for more monthly tech updates and in-depth features on the future of technology.\\n\\n--\\n\\n-- [...] OpenAI has rolled out updates to GPT-5 Turbo, improving speed, memory, and context handling. The model now supports up to 1 million tokens of context, making it ideal for long documents, coding, and complex conversations.\\n\\nThe ChatGPT desktop app for Windows also launched this month, giving users more powerful tools for productivity, research, and creative projects.\\n\\n🍎 2. Apple WWDC 2025: The Dawn of “Apple Intelligence”',\n",
       "  'score': 0.8742601},\n",
       " {'title': 'New York passes a bill to prevent AI-fueled disasters - TechCrunch',\n",
       "  'url': 'https://techcrunch.com/2025/06/13/new-york-passes-a-bill-to-prevent-ai-fueled-disasters/',\n",
       "  'content': '[Week in Review: WWDC 2025 recap](https://techcrunch.com/2025/06/14/week-in-review-wwdc-2025-recap/)\\n\\n### [The App Store’s new AI-generated tags are live in the beta](https://techcrunch.com/2025/06/14/the-app-stores-new-ai-generated-tags-are-live-in-the-beta/)\\n\\n[The App Store’s new AI-generated tags are live in the beta](https://techcrunch.com/2025/06/14/the-app-stores-new-ai-generated-tags-are-live-in-the-beta/) [...] From seed to Series C and beyond—founders and VCs of all stages are heading to Boston. Be part of the conversation. Save $200+ now and tap into powerful takeaways, peer insights, and game-changing connections.\\n\\n## Most Popular\\n\\n### [Google reportedly plans to cut ties with Scale AI](https://techcrunch.com/2025/06/14/google-reportedly-plans-to-cut-ties-with-scale-ai/) [...] [Google reportedly plans to cut ties with Scale AI](https://techcrunch.com/2025/06/14/google-reportedly-plans-to-cut-ties-with-scale-ai/)\\n\\n### [How to delete your 23andMe data](https://techcrunch.com/2025/06/14/23andme-files-for-bankruptcy-how-to-delete-your-data/)\\n\\n[How to delete your 23andMe data](https://techcrunch.com/2025/06/14/23andme-files-for-bankruptcy-how-to-delete-your-data/)',\n",
       "  'score': 0.8377398},\n",
       " {'title': 'AI tools collect, store data about you from all your devices',\n",
       "  'url': 'https://thecurrentga.org/2025/06/14/ai-tools-collect-store-data-about-you-from-all-your-devices-heres-how-to-be-aware-of-what-youre-revealing/',\n",
       "  'content': \"Latest News. AI tools collect, store data about you from all your devices – here's how to be aware of what you're revealing June 14th, 2025; AI\",\n",
       "  'score': 0.7933146}]"
      ]
     },
     "execution_count": 4,
     "metadata": {},
     "output_type": "execute_result"
    }
   ],
   "source": [
    "### Tavily Search Tool\n",
    "from langchain_community.tools.tavily_search import TavilySearchResults\n",
    "\n",
    "tavily = TavilySearchResults()\n",
    "tavily.invoke(\"Provide me the recent AI news for June 14, 2025\")"
   ]
  },
  {
   "cell_type": "code",
   "execution_count": 5,
   "id": "42c994d8",
   "metadata": {},
   "outputs": [],
   "source": [
    "from langchain_groq import ChatGroq\n",
    "\n",
    "llm=ChatGroq(model=\"llama-3.3-70b-versatile\")"
   ]
  },
  {
   "cell_type": "code",
   "execution_count": null,
   "id": "a71976d9",
   "metadata": {},
   "outputs": [],
   "source": [
    "### Custom Functions\n",
    "def clean_dataframe(df):\n",
    "    \"\"\"\n",
    "    Cleans a dataframe by:\n",
    "    1. Identifying the row that contains year values (both integer and float).\n",
    "    2. Renaming columns using the detected years.\n",
    "    3. Removing metadata rows above the detected year row.\n",
    "    4. Ensuring all columns have valid names.\n",
    "    5. Filling NaN values with -inf.\n",
    "    \n",
    "    Parameters:\n",
    "    df (pd.DataFrame): Raw dataframe with metadata and financial data.\n",
    "    \n",
    "    Returns:\n",
    "    pd.DataFrame: Processed dataframe with correct column names and missing values replaced.\n",
    "    \"\"\"\n",
    "    \n",
    "    # Identify the row index where the first numeric year appears\n",
    "    year_row_index = None\n",
    "    for i in range(len(df)):\n",
    "        non_null_values = df.iloc[i].dropna()\n",
    "        if non_null_values.astype(str).str.match(r'^\\d{4}(\\.0)?$').all():  # Matches years like 2024 and 2024.0\n",
    "            year_row_index = i\n",
    "            break\n",
    "\n",
    "    if year_row_index is None:\n",
    "        raise ValueError(\"No year row found in the dataset.\")\n",
    "\n",
    "    # Extract column names from the identified row (convert floats to int for clean column names)\n",
    "    new_columns = df.iloc[year_row_index+1].values.astype(str).tolist()\n",
    "    new_columns = [col if not col.replace('.0', '').isdigit() else str(int(float(col))) for col in new_columns]\n",
    "\n",
    "    # Ensure the first column has a proper name (e.g., \"Category\")\n",
    "    new_columns[0] = \"category\"\n",
    "\n",
    "    # Remove metadata rows above the detected year row and reset index\n",
    "    df = df.iloc[year_row_index+2:,]\n",
    "\n",
    "    # Assign new column names\n",
    "    df.columns = new_columns # \n",
    "\n",
    "    # Fill NaN values with -inf\n",
    "    df = df.fillna(-np.inf).reset_index(drop=True, inplace=False)\n",
    "    df.set_index('category', inplace=True)\n",
    "    \n",
    "    return df\n",
    "\n",
    "def extract_vals_from_df(df, col, year):\n",
    "    return float(df.loc[col, year])\n",
    "\n",
    "def multiply(a: int, b: int) -> int:\n",
    "    \"\"\"Multiply a and b.\n",
    "\n",
    "    Args:\n",
    "        a: first int\n",
    "        b: second int\n",
    "    \"\"\"\n",
    "    return a * b\n",
    "\n",
    "# This will be a tool\n",
    "def add(a: int, b: int) -> int:\n",
    "    \"\"\"Adds a and b.\n",
    "\n",
    "    Args:\n",
    "        a: first int\n",
    "        b: second int\n",
    "    \"\"\"\n",
    "    return a + b\n",
    "\n",
    "def divide(a: int, b: int) -> float:\n",
    "    \"\"\"Divide a and b.\n",
    "\n",
    "    Args:\n",
    "        a: first int\n",
    "        b: second int\n",
    "    \"\"\"\n",
    "    return a / b\n",
    "\n",
    "def subtract(a: int, b: int) -> int:\n",
    "    \"\"\"Subtract b from a.\n",
    "\n",
    "    Args:\n",
    "        a: first int\n",
    "        b: second int\n",
    "    \"\"\"\n",
    "    return a - b\n",
    "\n",
    "tools=[tavily, add, multiply, divide]"
   ]
  },
  {
   "cell_type": "code",
   "execution_count": 7,
   "id": "c29069ea",
   "metadata": {},
   "outputs": [],
   "source": [
    "llm_with_tools = llm.bind_tools(tools)"
   ]
  },
  {
   "cell_type": "code",
   "execution_count": 8,
   "id": "6be8d19a",
   "metadata": {},
   "outputs": [],
   "source": [
    "## State Schema\n",
    "from typing_extensions import TypedDict\n",
    "from langchain_core.messages import AnyMessage\n",
    "from typing import Annotated\n",
    "from langgraph.graph.message import add_messages\n",
    "\n",
    "class State(TypedDict):\n",
    "    messages:Annotated[list[AnyMessage],add_messages]"
   ]
  },
  {
   "cell_type": "code",
   "execution_count": 9,
   "id": "9b430e24",
   "metadata": {},
   "outputs": [
    {
     "data": {
      "image/png": "[encoded data removed]",
      "text/plain": [
       "<IPython.core.display.Image object>"
      ]
     },
     "metadata": {},
     "output_type": "display_data"
    }
   ],
   "source": [
    "### Entire Chatbot With LangGraph\n",
    "from IPython.display import Image, display\n",
    "from langgraph.graph import StateGraph, START, END\n",
    "from langgraph.prebuilt import ToolNode\n",
    "from langgraph.prebuilt import tools_condition\n",
    "\n",
    "### Node definition\n",
    "def tool_calling_llm(state:State):\n",
    "    return {\"messages\":[llm_with_tools.invoke(state[\"messages\"])]}\n",
    "\n",
    "# Build graph\n",
    "builder = StateGraph(State)\n",
    "builder.add_node(\"tool_calling_llm\", tool_calling_llm)\n",
    "builder.add_node(\"tools\", ToolNode(tools))\n",
    "\n",
    "builder.add_edge(START, \"tool_calling_llm\")\n",
    "builder.add_conditional_edges(\n",
    "    \"tool_calling_llm\",\n",
    "    # If the latest message (result) from assistant is a tool call -> tools_condition routes to tools\n",
    "    # If the latest message (result) from assistant is a not a tool call -> tools_condition routes to END\n",
    "    tools_condition,\n",
    ")\n",
    "builder.add_edge(\"tools\",\"tool_calling_llm\")\n",
    "\n",
    "graph = builder.compile()\n",
    "\n",
    "# View\n",
    "display(Image(graph.get_graph().draw_mermaid_png()))\n"
   ]
  },
  {
   "cell_type": "code",
   "execution_count": 10,
   "id": "90243a57",
   "metadata": {},
   "outputs": [],
   "source": [
    "from pprint import pprint\n",
    "from langchain_core.messages import AIMessage, HumanMessage"
   ]
  },
  {
   "cell_type": "code",
   "execution_count": 13,
   "id": "925127f7",
   "metadata": {},
   "outputs": [
    {
     "name": "stdout",
     "output_type": "stream",
     "text": [
      "================================\u001b[1m Human Message \u001b[0m=================================\n",
      "\n",
      "Provide me the top 10 most expensive cities in the USA by average monthly cost for 2025. Average them\n",
      "==================================\u001b[1m Ai Message \u001b[0m==================================\n",
      "Tool Calls:\n",
      "  tavily_search_results_json (cpsdn5fhf)\n",
      " Call ID: cpsdn5fhf\n",
      "  Args:\n",
      "    query: top 10 most expensive cities in the USA by average monthly cost for 2025\n",
      "=================================\u001b[1m Tool Message \u001b[0m=================================\n",
      "Name: tavily_search_results_json\n",
      "\n",
      "[{\"title\": \"10 Most Expensive Cities in the U.S. (2025) | ConsumerAffairs®\", \"url\": \"https://www.consumeraffairs.com/finance/most-expensive-cities-in-the-us.html\", \"content\": \"2. San Francisco\\n\\nSan Francisco, California, is a close second on our list, surpassing San Jose in median real estate taxes ($8,545) and home values ($1,306,400) but being slightly less onerous in terms of median monthly housing costs ($2,337) and gross rent ($2,167). However, this still leaves both Bay Area cities as the most expensive in our ranking by far.\\n\\n3. San Diego [...] The most expensive city in the U.S. in terms of housing costs is San Jose, California. It combined the highest monthly housing costs in our study with the second-highest home values, but San Francisco wasn’t far behind. In fact, there’s a bigger gap between San Francisco (No. 2) and San Diego (No. 3) than there is between San Diego and Denver (No. 9). [...] ## The 10 most expensive cities\\n\\nWe ranked the 37 largest U.S. cities based on 2021 single-year census estimates that covered how homeowners valued their homes and what their monthly housing costs were — including spending on mortgages, rent, real estate taxes, property insurance, utilities and other recurring housing expenses. Here are the top 10.\\n\\n(We also provided info on each city’s median household income and housing costs as a percentage of income for added context.)\\n\\n1. San Jose\", \"score\": 0.9177831}, {\"title\": \"10 Most Expensive Cities in the US to Live in 2025\", \"url\": \"https://www.houzeo.com/blog/most-expensive-cities-in-the-us/\", \"content\": \"What are the top 5 most expensive cities in America to live?\\n\\nThe  [the most expensive cities in the US](#top-10-most-expensive-cities-in-the-us) in 2025 are New York City, Los Angeles, San Diego, Anaheim, and San Francisco. New York City has the highest cost of living at 131% higher than the national average.\\n\\nDownload the Houzeo app [...] | City | Cost of Living | Median Household Income | Median House Value | Median Rent |\\n| --- | --- | --- | --- | --- |\\n| 1. [New York City, NY](#new-york-city-most-expensive-city-in-usa) | 131% ⬆️ | $101,078 | $1,010,800 | $5,025 |\\n| 2. [Los Angeles, CA](#los-angeles) | 50% ⬆️ | $79,701 | $885,000 | $2,750 |\\n| 3. [San Diego, CA](#san-diego) | 43% ⬆️ | $108,352 | $949,000 | $2,690 |\\n| 4. [Anaheim, CA](#anaheim) | 52% ⬆️ | $122,192 | $906,000 | $2,590 | [...] | 5. [San Francisco, CA](#san-francisco) | 71% ⬆️ | $159,665 | $1,400,000 | $2,690 |\\n| 6. [San Jose, CA](#san-jose) | 76% ⬆️ | $170,034 | $1,405,000 | $3,170 |\\n| 7. [Providence, RI](#providence) | 77% ⬆️ | $96,338 | $852,000 | $2,830 |\\n| 8. [Riverside, CA](#riverside) | 74.4% ⬆️ | $90,677 | $640,000 | $2,290 |\\n| 9. [Miami, FL](#miami) | 19% ⬆️ | $71,749 | $627,500 | $2,390 |\\n| 10. [Sacramento, CA](#sacramento) | 25% ⬆️ | $100,152 | $475,000 | $2,000 |\", \"score\": 0.90432173}, {\"title\": \"Most Expensive Cities in the US in 2025 - Imperial Citizenship\", \"url\": \"https://imperialcitizenship.com/blog/most-expensive-cities-us-2025/\", \"content\": \"Discover the top 10 most expensive cities in the US in 2025, including New York City and San Francisco, known for their high cost of living.\", \"score\": 0.8719229}, {\"title\": \"The Most Expensive Cities in the United States for Renters in 2025\", \"url\": \"https://www.housebeautiful.com/design-inspiration/real-estate/g64035228/most-expensive-cities-united-states-2025/\", \"content\": \"The only Midwestern city on this list, Milwaukee and its surrounding areas have seen increased demand from both renters and buyers in its housing market. Here, average rents hover around $1,600 per month while the share of income spent is just above 26 percent, well below the recommended average of 30 percent.\\n\\n## San Jose, California [...] ![marine street beach, summer sky](https://hips.hearstapps.com/hmg-prod/images/marine-street-beach-summer-sky-royalty-free-image-1741105863.pjpeg?crop=0.444xw:1.00xh;0.196xw,0&resize=980:* \\\"Marine Street Beach, Summer sky\\\")\\n\\n**Median Rent**: $2,695\\n\\n**Share of Income Spent on Rent**: 31.40%\\n\\nSan Diego, California, boasts a moderate median rent of $2,695 per month. In this area, renters are using 31 percent of their annual income to pay for housing.\\n\\n## Riverside, California [...] Boston is a secret hot spot for young renters, thanks to its robust job market and varied housing inventory. Despite higher median rents than other areas on this list, people spend only 32 percent of their income on housing, just above the recommended 30 percent financial guideline.\\n\\n## San Diego, California\", \"score\": 0.86954874}, {\"title\": \"The 10 Most Expensive Cities in the U.S. in 2025 - Redfin\", \"url\": \"https://www.redfin.com/blog/most-expensive-cities-in-the-us/\", \"content\": \"calculator](https://www.redfin.com/rent-vs-buy-calculator?utm_source=blog&utm_medium=banner&utm_campaign=rvb) [Get pre-approved](https://www.redfin.com/mortgage-get-pre-approved?context=61) 1. Los Angeles, CA [...] average. These costs make Anaheim the third-most expensive place in the U.S.\", \"score\": 0.8568246}]\n",
      "==================================\u001b[1m Ai Message \u001b[0m==================================\n",
      "Tool Calls:\n",
      "  tavily_search_results_json (00hkrxvb5)\n",
      " Call ID: 00hkrxvb5\n",
      "  Args:\n",
      "    query: average monthly cost for top 10 most expensive cities in the USA 2025\n",
      "=================================\u001b[1m Tool Message \u001b[0m=================================\n",
      "Name: tavily_search_results_json\n",
      "\n",
      "[{\"title\": \"10 Most Expensive Cities in the US to Live in 2025\", \"url\": \"https://www.houzeo.com/blog/most-expensive-cities-in-the-us/\", \"content\": \"| City | Cost of Living | Median Household Income | Median House Value | Median Rent |\\n| --- | --- | --- | --- | --- |\\n| 1\\\\. [New York City, NY](https://www.houzeo.com/blog/most-expensive-cities-in-the-us/#new-york-city-most-expensive-city-in-usa) | 131% ⬆️ | $101,078 | $1,010,800 | $5,025 |\\n| 2\\\\. [Los Angeles, CA](https://www.houzeo.com/blog/most-expensive-cities-in-the-us/#los-angeles) | 50% ⬆️ | $79,701 | $885,000 | $2,750 | [...] | 9\\\\. [Miami, FL](https://www.houzeo.com/blog/most-expensive-cities-in-the-us/#miami) | 19% ⬆️ | $71,749 | $627,500 | $2,390 |\\n| 10\\\\. [Sacramento, CA](https://www.houzeo.com/blog/most-expensive-cities-in-the-us/#sacramento) | 25% ⬆️ | $100,152 | $475,000 | $2,000 | [...] Besides, rent is around $2,590 monthly, which makes even a basic condo feel luxurious. So while the job market thrives, the cost of living still makes many reconsider their decision. Top employers in the city include Disneyland Resort, Kaiser Foundation Hospital, etc.\\n\\n**» [Anaheim, CA Homes for Sale](https://www.houzeo.com/homes-for-sale/california/anaheim):** Explore homes with roof pools in one of the highest cost of living cities.\\n\\n### **5\\\\.  San Francisco, CA**\", \"score\": 0.8446273}, {\"title\": \"The Most Expensive Cities in the United States for Renters in 2025\", \"url\": \"https://www.housebeautiful.com/design-inspiration/real-estate/g64035228/most-expensive-cities-united-states-2025/\", \"content\": \"![Image 18: buildings, palm trees and expensive cars in santana row, san jose, california](https://hips.hearstapps.com/hmg-prod/images/buildings-palm-trees-and-expensive-cars-in-santana-royalty-free-image-1741106645.pjpeg?crop=0.502xw:1.00xh;0.410xw,0&resize=980:*)\\n\\nSvetlanaSF//Getty Images\\n\\n10\\nSan Jose, California\\n--------------------\\n\\n**Median Rent**: $3,287\\n\\n**Share of Income Spent on Rent**: 25.20% [...] ![Image 13: marine street beach, summer sky](https://hips.hearstapps.com/hmg-prod/images/marine-street-beach-summer-sky-royalty-free-image-1741105863.pjpeg?crop=0.444xw:1.00xh;0.196xw,0&resize=980:*)\\n\\nStephen Simpson//Getty Images\\n\\n5\\nSan Diego, California\\n---------------------\\n\\n**Median Rent**: $2,695\\n\\n**Share of Income Spent on Rent**: 31.40% [...] Riverside, California is the first city on this list where renters are spending below the recommended 30 percent of their income on housing. Here, the average is 28.8 percent with median rents hovering just above $2,000 per month.\\n\\nAdvertisement - Continue Reading Below\", \"score\": 0.78944516}, {\"title\": \"The 10 Most Expensive Cities in the U.S. in 2025 - MyOnsiteManager\", \"url\": \"https://www.myonsitemanager.com/the-10-most-expensive-cities-in-the-u-s-in-2025-where-the-cost-of-living-is-skyrocketing/\", \"content\": \"1. Los Angeles, CA · Median Home Price: $950,000 · Median Household Income: $80,000 · Percentage of Affordable Homes: 5% · Cost of Living Index: 50% above the\", \"score\": 0.78493005}, {\"title\": \"The 10 Most Expensive Cities in the U.S. in 2025 - Redfin\", \"url\": \"https://www.redfin.com/blog/most-expensive-cities-in-the-us/\", \"content\": \"calculator](https://www.redfin.com/rent-vs-buy-calculator?utm_source=blog&utm_medium=banner&utm_campaign=rvb) [Get pre-approved](https://www.redfin.com/mortgage-get-pre-approved?context=61) 1. Los Angeles, CA\", \"score\": 0.7192461}, {\"title\": \"Most Expensive Places to Live in the US in 2025-2026 - Real Estate\", \"url\": \"https://realestate.usnews.com/places/rankings/most-expensive-places-to-live\", \"content\": \"Median Home Value:**$2,358,102**\\n\\nMedian Monthly Rent:**$2,576**\\n\\nMedian Household Income:**$157,188**  See Details[Search Agents](https://realestate.usnews.com/agents/california/newport-beach)     \\n2.   ![Image 6](https://www.usnews.com/cmsmedia/65/01/9657c2ea4e6db08ef990466c0e3a/gettyimages-1294539394.jpg)  [Westminster, CA](https://realestate.usnews.com/places/california/westminster)![Image 7](https://www.usnews.com/static/img/mini-badge-color.svg)\\n#2 in Most Expensive Places to Live\", \"score\": 0.7173491}]\n",
      "==================================\u001b[1m Ai Message \u001b[0m==================================\n",
      "Tool Calls:\n",
      "  divide (3fzmsgf3b)\n",
      " Call ID: 3fzmsgf3b\n",
      "  Args:\n",
      "    a: 30212\n",
      "    b: 10\n",
      "=================================\u001b[1m Tool Message \u001b[0m=================================\n",
      "Name: divide\n",
      "\n",
      "3021.2\n",
      "==================================\u001b[1m Ai Message \u001b[0m==================================\n",
      "\n",
      "The average monthly cost for the top 10 most expensive cities in the USA in 2025 is $3,021.20.\n"
     ]
    }
   ],
   "source": [
    "messages = graph.invoke({\"messages\": HumanMessage(content=\"Provide me the top 10 most expensive cities in the USA by average monthly cost for 2025. Average them\")})\n",
    "for m in messages['messages']:\n",
    "    m.pretty_print()"
   ]
  },
  {
   "cell_type": "code",
   "execution_count": null,
   "id": "493365c9",
   "metadata": {},
   "outputs": [],
   "source": []
  }
 ],
 "metadata": {
  "kernelspec": {
   "display_name": "myenv",
   "language": "python",
   "name": "python3"
  },
  "language_info": {
   "codemirror_mode": {
    "name": "ipython",
    "version": 3
   },
   "file_extension": ".py",
   "mimetype": "text/x-python",
   "name": "python",
   "nbconvert_exporter": "python",
   "pygments_lexer": "ipython3",
   "version": "3.12.11"
  }
 },
 "nbformat": 4,
 "nbformat_minor": 5
}
